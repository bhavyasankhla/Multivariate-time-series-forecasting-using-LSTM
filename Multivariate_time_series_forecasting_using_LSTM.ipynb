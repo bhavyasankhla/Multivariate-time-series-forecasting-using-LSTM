{
  "nbformat": 4,
  "nbformat_minor": 0,
  "metadata": {
    "colab": {
      "provenance": []
    },
    "kernelspec": {
      "name": "python3",
      "display_name": "Python 3"
    },
    "language_info": {
      "name": "python"
    }
  },
  "cells": [
    {
      "cell_type": "code",
      "execution_count": 1,
      "metadata": {
        "id": "24AApy3RjV8q"
      },
      "outputs": [],
      "source": [
        "import numpy as np\n",
        "from tensorflow.keras.models import Sequential\n",
        "from tensorflow.keras.layers import LSTM\n",
        "from tensorflow.keras.layers import Dense, Dropout\n",
        "import pandas as pd\n",
        "from matplotlib import pyplot as plt\n",
        "from sklearn.preprocessing import StandardScaler\n",
        "import seaborn as sns"
      ]
    },
    {
      "cell_type": "code",
      "source": [
        "#Read the csv file\n",
        "df = pd.read_csv('ORCL_historical_data.csv')\n",
        "print(len(df))\n",
        "print(df.head()) #7 columns, including the Date. \n"
      ],
      "metadata": {
        "colab": {
          "base_uri": "https://localhost:8080/"
        },
        "id": "UeAM-CkTjfLB",
        "outputId": "8ed0c4a3-6cbf-4a7b-dad7-41f0e6f9783e"
      },
      "execution_count": 6,
      "outputs": [
        {
          "output_type": "stream",
          "name": "stdout",
          "text": [
            "251\n",
            "         Date       Open       High        Low      Close  Adj Close    Volume\n",
            "0  2022-01-26  81.910004  82.029999  79.279999  79.589996  78.229874  13971300\n",
            "1  2022-01-27  80.110001  81.150002  79.199997  79.779999  78.416634  10331900\n",
            "2  2022-01-28  79.989998  80.500000  78.570000  80.480003  79.104668   7854700\n",
            "3  2022-01-31  80.489998  81.639999  80.120003  81.160004  79.773056  10594200\n",
            "4  2022-02-01  81.400002  81.400002  79.650002  81.040001  79.655098   8016900\n"
          ]
        }
      ]
    },
    {
      "cell_type": "code",
      "source": [
        "#Separate dates for future plotting\n",
        "train_dates = pd.to_datetime(df['Date'])\n",
        "print(train_dates.tail(15)) #Check last few dates. \n",
        "\n",
        "#Variables for training\n",
        "cols = list(df)[1:6]\n",
        "#Date and volume columns are not used in training. \n",
        "print(cols) #['Open', 'High', 'Low', 'Close', 'Adj Close']"
      ],
      "metadata": {
        "colab": {
          "base_uri": "https://localhost:8080/"
        },
        "id": "QtrEj9ezkMPq",
        "outputId": "97329577-7dba-4ebc-ae4f-09b4eb005138"
      },
      "execution_count": 7,
      "outputs": [
        {
          "output_type": "stream",
          "name": "stdout",
          "text": [
            "236   2023-01-04\n",
            "237   2023-01-05\n",
            "238   2023-01-06\n",
            "239   2023-01-09\n",
            "240   2023-01-10\n",
            "241   2023-01-11\n",
            "242   2023-01-12\n",
            "243   2023-01-13\n",
            "244   2023-01-17\n",
            "245   2023-01-18\n",
            "246   2023-01-19\n",
            "247   2023-01-20\n",
            "248   2023-01-23\n",
            "249   2023-01-24\n",
            "250   2023-01-25\n",
            "Name: Date, dtype: datetime64[ns]\n",
            "['Open', 'High', 'Low', 'Close', 'Adj Close']\n"
          ]
        }
      ]
    },
    {
      "cell_type": "code",
      "source": [
        "#New dataframe with only training data - 5 columns\n",
        "df_for_training = df[cols].astype(float)\n",
        "\n",
        "#LSTM uses sigmoid and tanh that are sensitive to magnitude so values need to be normalized\n",
        "# normalize the dataset\n",
        "scaler = StandardScaler()\n",
        "scaler = scaler.fit(df_for_training)\n",
        "df_for_training_scaled = scaler.transform(df_for_training)"
      ],
      "metadata": {
        "id": "57I5gORUkOk1"
      },
      "execution_count": 8,
      "outputs": []
    },
    {
      "cell_type": "code",
      "source": [
        "#Empty lists to be populated using formatted training data\n",
        "trainX = []\n",
        "trainY = []\n",
        "\n",
        "n_future = 1 # Number of days we want to look into the future based on the past days.\n",
        "n_past = 14  # Number of past days we want to use to predict the future.\n",
        "\n",
        "#Reformat input data into a shape: (n_samples x timesteps x n_features)\n",
        "#In my example, my df_for_training_scaled has a shape (12823, 5)\n",
        "#12823 refers to the number of data points and 5 refers to the columns (multi-variables).\n",
        "for i in range(n_past, len(df_for_training_scaled) - n_future +1):\n",
        "    trainX.append(df_for_training_scaled[i - n_past:i, 0:df_for_training.shape[1]])\n",
        "    trainY.append(df_for_training_scaled[i + n_future - 1:i + n_future, 0])\n",
        "\n",
        "trainX, trainY = np.array(trainX), np.array(trainY)\n",
        "\n",
        "print('trainX shape == {}.'.format(trainX.shape))\n",
        "print('trainY shape == {}.'.format(trainY.shape))\n"
      ],
      "metadata": {
        "colab": {
          "base_uri": "https://localhost:8080/"
        },
        "id": "uuYBeh7_0ndf",
        "outputId": "3de85b51-4f5f-4a79-bf18-6af64ace3efc"
      },
      "execution_count": 31,
      "outputs": [
        {
          "output_type": "stream",
          "name": "stdout",
          "text": [
            "trainX shape == (237, 14, 5).\n",
            "trainY shape == (237, 1).\n"
          ]
        }
      ]
    },
    {
      "cell_type": "code",
      "source": [
        "# define the Autoencoder model\n",
        "\n",
        "model = Sequential()\n",
        "model.add(LSTM(64, activation='relu', input_shape=(trainX.shape[1], trainX.shape[2]), return_sequences=True))\n",
        "model.add(LSTM(32, activation='relu', return_sequences=False))\n",
        "model.add(Dropout(0.2))\n",
        "model.add(Dense(trainY.shape[1]))\n",
        "\n",
        "model.compile(optimizer='adam', loss='mse')\n",
        "model.summary()\n"
      ],
      "metadata": {
        "colab": {
          "base_uri": "https://localhost:8080/"
        },
        "id": "gvjz-3Xc0v1N",
        "outputId": "dff3bd84-2c49-49c7-9606-cc4539bc46d1"
      },
      "execution_count": 32,
      "outputs": [
        {
          "output_type": "stream",
          "name": "stdout",
          "text": [
            "Model: \"sequential_4\"\n",
            "_________________________________________________________________\n",
            " Layer (type)                Output Shape              Param #   \n",
            "=================================================================\n",
            " lstm_8 (LSTM)               (None, 14, 64)            17920     \n",
            "                                                                 \n",
            " lstm_9 (LSTM)               (None, 32)                12416     \n",
            "                                                                 \n",
            " dropout_4 (Dropout)         (None, 32)                0         \n",
            "                                                                 \n",
            " dense_4 (Dense)             (None, 1)                 33        \n",
            "                                                                 \n",
            "=================================================================\n",
            "Total params: 30,369\n",
            "Trainable params: 30,369\n",
            "Non-trainable params: 0\n",
            "_________________________________________________________________\n"
          ]
        }
      ]
    },
    {
      "cell_type": "code",
      "source": [
        "# fit the model\n",
        "history = model.fit(trainX, trainY, epochs=5, batch_size=16, validation_split=0.1, verbose=1)\n",
        "\n",
        "plt.plot(history.history['loss'], label='Training loss')\n",
        "plt.plot(history.history['val_loss'], label='Validation loss')\n",
        "plt.legend()"
      ],
      "metadata": {
        "colab": {
          "base_uri": "https://localhost:8080/",
          "height": 461
        },
        "id": "F3seUwn30yUE",
        "outputId": "b732e219-bb7b-47aa-f1d2-277606b925ce"
      },
      "execution_count": 45,
      "outputs": [
        {
          "output_type": "stream",
          "name": "stdout",
          "text": [
            "Epoch 1/5\n",
            "14/14 [==============================] - 0s 22ms/step - loss: 0.0380 - val_loss: 0.0336\n",
            "Epoch 2/5\n",
            "14/14 [==============================] - 0s 21ms/step - loss: 0.0435 - val_loss: 0.0157\n",
            "Epoch 3/5\n",
            "14/14 [==============================] - 0s 22ms/step - loss: 0.0437 - val_loss: 0.0205\n",
            "Epoch 4/5\n",
            "14/14 [==============================] - 0s 21ms/step - loss: 0.0456 - val_loss: 0.0700\n",
            "Epoch 5/5\n",
            "14/14 [==============================] - 0s 20ms/step - loss: 0.0470 - val_loss: 0.0343\n"
          ]
        },
        {
          "output_type": "execute_result",
          "data": {
            "text/plain": [
              "<matplotlib.legend.Legend at 0x7f7653105670>"
            ]
          },
          "metadata": {},
          "execution_count": 45
        },
        {
          "output_type": "display_data",
          "data": {
            "text/plain": [
              "<Figure size 432x288 with 1 Axes>"
            ],
            "image/png": "[encoded data removed]"
          },
          "metadata": {
            "needs_background": "light"
          }
        }
      ]
    },
    {
      "cell_type": "code",
      "source": [
        "#Predicting...\n",
        "#Libraries that will help us extract only business days in the US.\n",
        "#Otherwise our dates would be wrong when we look back (or forward).  \n",
        "from pandas.tseries.holiday import USFederalHolidayCalendar\n",
        "from pandas.tseries.offsets import CustomBusinessDay\n",
        "us_bd = CustomBusinessDay(calendar=USFederalHolidayCalendar())\n",
        "#Remember that we can only predict one day in future as our model needs 5 variables\n",
        "#as inputs for prediction. We only have all 5 variables until the last day in our dataset.\n",
        "n_past = 16\n",
        "n_days_for_prediction=15  #let us predict past 15 days\n",
        "\n",
        "predict_period_dates = pd.date_range(list(train_dates)[-n_past], periods=n_days_for_prediction, freq=us_bd).tolist()\n",
        "print(predict_period_dates)\n",
        "\n",
        "#Make prediction\n",
        "prediction = model.predict(trainX[-n_days_for_prediction:]) #shape = (n, 1) where n is the n_days_for_prediction\n",
        "\n",
        "#Perform inverse transformation to rescale back to original range\n",
        "#Since we used 5 variables for transform, the inverse expects same dimensions\n",
        "#Therefore, let us copy our values 5 times and discard them after inverse transform\n",
        "prediction_copies = np.repeat(prediction, df_for_training.shape[1], axis=-1)\n",
        "y_pred_future = scaler.inverse_transform(prediction_copies)[:,0]"
      ],
      "metadata": {
        "colab": {
          "base_uri": "https://localhost:8080/"
        },
        "id": "h7a9kJOY06SC",
        "outputId": "be75f055-4b3c-4263-bc02-79dcfdb1bc77"
      },
      "execution_count": 34,
      "outputs": [
        {
          "output_type": "stream",
          "name": "stdout",
          "text": [
            "[Timestamp('2023-01-03 00:00:00', freq='C'), Timestamp('2023-01-04 00:00:00', freq='C'), Timestamp('2023-01-05 00:00:00', freq='C'), Timestamp('2023-01-06 00:00:00', freq='C'), Timestamp('2023-01-09 00:00:00', freq='C'), Timestamp('2023-01-10 00:00:00', freq='C'), Timestamp('2023-01-11 00:00:00', freq='C'), Timestamp('2023-01-12 00:00:00', freq='C'), Timestamp('2023-01-13 00:00:00', freq='C'), Timestamp('2023-01-17 00:00:00', freq='C'), Timestamp('2023-01-18 00:00:00', freq='C'), Timestamp('2023-01-19 00:00:00', freq='C'), Timestamp('2023-01-20 00:00:00', freq='C'), Timestamp('2023-01-23 00:00:00', freq='C'), Timestamp('2023-01-24 00:00:00', freq='C')]\n",
            "1/1 [==============================] - 0s 269ms/step\n"
          ]
        }
      ]
    },
    {
      "cell_type": "code",
      "source": [
        "# Convert timestamp to date\n",
        "forecast_dates = []\n",
        "for time_i in predict_period_dates:\n",
        "    forecast_dates.append(time_i.date())\n",
        "    \n",
        "df_forecast = pd.DataFrame({'Date':np.array(forecast_dates), 'Open':y_pred_future})\n",
        "df_forecast['Date']=pd.to_datetime(df_forecast['Date'])"
      ],
      "metadata": {
        "id": "9mRMGwdX0-wa"
      },
      "execution_count": 35,
      "outputs": []
    },
    {
      "cell_type": "code",
      "source": [
        "original = df[['Date', 'Open']]\n",
        "original['Date']=pd.to_datetime(original['Date'])\n",
        "original = original.loc[original['Date'] >= '2020-5-1']\n",
        "\n",
        "sns.lineplot(original['Date'], original['Open'])\n",
        "sns.lineplot(df_forecast['Date'], df_forecast['Open'])"
      ],
      "metadata": {
        "colab": {
          "base_uri": "https://localhost:8080/",
          "height": 495
        },
        "id": "Pw76DCLs1BtF",
        "outputId": "50b83317-ef5f-445f-bde0-92e1f08065b4"
      },
      "execution_count": 36,
      "outputs": [
        {
          "output_type": "stream",
          "name": "stderr",
          "text": [
            "<ipython-input-36-741a8c44d1af>:2: SettingWithCopyWarning: \n",
            "A value is trying to be set on a copy of a slice from a DataFrame.\n",
            "Try using .loc[row_indexer,col_indexer] = value instead\n",
            "\n",
            "See the caveats in the documentation: https://pandas.pydata.org/pandas-docs/stable/user_guide/indexing.html#returning-a-view-versus-a-copy\n",
            "  original['Date']=pd.to_datetime(original['Date'])\n",
            "/usr/local/lib/python3.8/dist-packages/seaborn/_decorators.py:36: FutureWarning: Pass the following variables as keyword args: x, y. From version 0.12, the only valid positional argument will be `data`, and passing other arguments without an explicit keyword will result in an error or misinterpretation.\n",
            "  warnings.warn(\n",
            "/usr/local/lib/python3.8/dist-packages/seaborn/_decorators.py:36: FutureWarning: Pass the following variables as keyword args: x, y. From version 0.12, the only valid positional argument will be `data`, and passing other arguments without an explicit keyword will result in an error or misinterpretation.\n",
            "  warnings.warn(\n"
          ]
        },
        {
          "output_type": "execute_result",
          "data": {
            "text/plain": [
              "<matplotlib.axes._subplots.AxesSubplot at 0x7f7657e0e700>"
            ]
          },
          "metadata": {},
          "execution_count": 36
        },
        {
          "output_type": "display_data",
          "data": {
            "text/plain": [
              "<Figure size 432x288 with 1 Axes>"
            ],
            "image/png": "[encoded data removed]"
          },
          "metadata": {
            "needs_background": "light"
          }
        }
      ]
    }
  ]
}